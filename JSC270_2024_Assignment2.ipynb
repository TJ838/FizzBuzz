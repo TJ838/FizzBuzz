{
  "nbformat": 4,
  "nbformat_minor": 0,
  "metadata": {
    "colab": {
      "provenance": [],
      "authorship_tag": "ABX9TyNx+Z0rAR83tqc00DsZI3WQ",
      "include_colab_link": true
    },
    "kernelspec": {
      "name": "python3",
      "display_name": "Python 3"
    },
    "language_info": {
      "name": "python"
    }
  },
  "cells": [
    {
      "cell_type": "markdown",
      "metadata": {
        "id": "view-in-github",
        "colab_type": "text"
      },
      "source": [
        "<a href=\"https://colab.research.google.com/github/TJ838/FizzBuzz/blob/main/JSC270_2024_Assignment2.ipynb\" target=\"_parent\"><img src=\"https://colab.research.google.com/assets/colab-badge.svg\" alt=\"Open In Colab\"/></a>"
      ]
    },
    {
      "cell_type": "markdown",
      "metadata": {
        "id": "Dx3JcBg8VZ-a"
      },
      "source": [
        "###Libraries you'll likely need"
      ]
    },
    {
      "cell_type": "code",
      "metadata": {
        "id": "3I79uCwE3Sq8"
      },
      "source": [
        "import pandas as pd\n",
        "import numpy as np\n",
        "import matplotlib.pyplot as plt\n",
        "import seaborn as sns\n",
        "from scipy import stats\n",
        "import statsmodels.api as sm\n",
        "import statsmodels.formula.api as smf"
      ],
      "execution_count": null,
      "outputs": []
    },
    {
      "cell_type": "markdown",
      "metadata": {
        "id": "X0oR7u9m-wO6"
      },
      "source": [
        "###Importing data"
      ]
    },
    {
      "cell_type": "code",
      "metadata": {
        "id": "f3jscp2H3Yqm"
      },
      "source": [
        "income94 = pd.read_csv('https://archive.ics.uci.edu/ml/machine-learning-databases/adult/adult.data', header=None)\n",
        "income94.columns = ['age','workclass', 'fnlwgt','education','education_num','marital_status','occupation',\n",
        "                    'relationship','race','sex','capital_gain','capital_loss','hours_per_week','native_country','gross_income_group']"
      ],
      "execution_count": null,
      "outputs": []
    },
    {
      "cell_type": "markdown",
      "source": [],
      "metadata": {
        "id": "RlasCX5DMupZ"
      }
    }
  ]
}